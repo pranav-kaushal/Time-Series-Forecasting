{
  "nbformat": 4,
  "nbformat_minor": 0,
  "metadata": {
    "colab": {
      "name": "Time Series Forecasting lesson 1.ipynb",
      "provenance": [],
      "authorship_tag": "ABX9TyPWt/CtqnuvoP8FP6KYHVmc",
      "include_colab_link": true
    },
    "kernelspec": {
      "name": "python3",
      "display_name": "Python 3"
    },
    "language_info": {
      "name": "python"
    }
  },
  "cells": [
    {
      "cell_type": "markdown",
      "metadata": {
        "id": "view-in-github",
        "colab_type": "text"
      },
      "source": [
        "<a href=\"https://colab.research.google.com/github/pranav-kaushal/Time-Series-Forecasting/blob/main/Time_Series_Forecasting_lesson_1.ipynb\" target=\"_parent\"><img src=\"https://colab.research.google.com/assets/colab-badge.svg\" alt=\"Open In Colab\"/></a>"
      ]
    },
    {
      "cell_type": "markdown",
      "metadata": {
        "id": "k-Joy_nkPup6"
      },
      "source": [
        "# Time Series Forecasting:\n",
        "Time series forecasting occurs when you make scientific predictions based on historical time stamped data. It involves building models through historical analysis and using them to make observations and drive future strategic decision-making.\n",
        "\n",
        "Predictions are made for new data when the actual outcome may not be known until some future date. The future is being predicted, but all prior observations are almost always treated equally.time series forecasting uses the information in a time series (perhaps with additional information) to forecast future values of that series.\n",
        "\n",
        "Making predictions about the future is called extrapolation in the classical statistical handling of time series data.More modern fields focus on the topic and refer to it as time series forecasting.\n",
        "\n",
        "Forecasting involves taking models fit on historical data and using them to predict future observations.\n"
      ]
    },
    {
      "cell_type": "markdown",
      "metadata": {
        "id": "TOcML4FoUpRM"
      },
      "source": [
        "# Components of Time Series\n",
        "\n",
        "1. Level. The baseline value for the series if it were a straight line.\n",
        "2. Trend. The optional and often linear increasing or decreasing behavior of    the series over time.\n",
        "3. Seasonality. The optional repeating patterns or cycles of behavior over time.\n",
        "4. Noise. The optional variability in the observations that cannot be explained by the model.\n",
        "\n",
        "Time series data often requires cleaning, scaling, and even transformation.\n",
        "\n",
        "For example:\n",
        "\n",
        "  Frequency. Perhaps data is provided at a frequency that is too high to model or is unevenly spaced through time requiring resampling for use in some models.\n",
        "  Outliers. Perhaps there are corrupt or extreme outlier values that need to be identified and handled.\n",
        "  Missing. Perhaps there are gaps or missing data that need to be interpolated or imputed.\n"
      ]
    },
    {
      "cell_type": "code",
      "metadata": {
        "id": "7hJWQFBLPh0A"
      },
      "source": [
        ""
      ],
      "execution_count": null,
      "outputs": []
    }
  ]
}